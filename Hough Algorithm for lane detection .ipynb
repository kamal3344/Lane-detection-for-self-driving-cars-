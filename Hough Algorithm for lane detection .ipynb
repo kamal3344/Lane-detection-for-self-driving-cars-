{
 "cells": [
  {
   "cell_type": "code",
   "execution_count": 1,
   "id": "7de878c8",
   "metadata": {},
   "outputs": [],
   "source": [
    "import numpy as np \n",
    "import pandas as pd \n",
    "import cv2 \n"
   ]
  },
  {
   "cell_type": "code",
   "execution_count": 2,
   "id": "a50a250f",
   "metadata": {
    "scrolled": true
   },
   "outputs": [
    {
     "name": "stdout",
     "output_type": "stream",
     "text": [
      "(True, array([[[0, 0, 0],\n",
      "        [0, 0, 0],\n",
      "        [0, 0, 0],\n",
      "        ...,\n",
      "        [0, 0, 0],\n",
      "        [0, 0, 0],\n",
      "        [0, 0, 0]],\n",
      "\n",
      "       [[0, 0, 0],\n",
      "        [0, 0, 0],\n",
      "        [0, 0, 0],\n",
      "        ...,\n",
      "        [0, 0, 0],\n",
      "        [0, 0, 0],\n",
      "        [0, 0, 0]],\n",
      "\n",
      "       [[0, 0, 0],\n",
      "        [0, 0, 0],\n",
      "        [0, 0, 0],\n",
      "        ...,\n",
      "        [0, 0, 0],\n",
      "        [0, 0, 0],\n",
      "        [0, 0, 0]],\n",
      "\n",
      "       ...,\n",
      "\n",
      "       [[0, 0, 0],\n",
      "        [0, 0, 0],\n",
      "        [0, 0, 0],\n",
      "        ...,\n",
      "        [0, 0, 0],\n",
      "        [0, 0, 0],\n",
      "        [0, 0, 0]],\n",
      "\n",
      "       [[0, 0, 0],\n",
      "        [0, 0, 0],\n",
      "        [0, 0, 0],\n",
      "        ...,\n",
      "        [0, 0, 0],\n",
      "        [0, 0, 0],\n",
      "        [0, 0, 0]],\n",
      "\n",
      "       [[0, 0, 0],\n",
      "        [0, 0, 0],\n",
      "        [0, 0, 0],\n",
      "        ...,\n",
      "        [0, 0, 0],\n",
      "        [0, 0, 0],\n",
      "        [0, 0, 0]]], dtype=uint8))\n"
     ]
    }
   ],
   "source": [
    "cap = cv2.VideoCapture(0)\n",
    "\n",
    "print(cap.read())\n",
    "\n",
    "while cap.read():\n",
    "    res , frame = cap.read()\n",
    "    if res == True:\n",
    "        frame = cv2.imshow('video',frame)\n",
    "        if cv2.waitKey(1) & 0xFF  == ord('q'):\n",
    "            break \n",
    "    else:\n",
    "        break\n",
    "cap.release()\n",
    "cv2.destroyAllWindows()"
   ]
  },
  {
   "cell_type": "code",
   "execution_count": 21,
   "id": "51f7dea4",
   "metadata": {
    "scrolled": true
   },
   "outputs": [
    {
     "name": "stdout",
     "output_type": "stream",
     "text": [
      "(True, array([[[122, 115, 112],\n",
      "        [123, 116, 113],\n",
      "        [124, 117, 114],\n",
      "        ...,\n",
      "        [183, 166, 160],\n",
      "        [181, 164, 158],\n",
      "        [180, 163, 157]],\n",
      "\n",
      "       [[122, 115, 112],\n",
      "        [123, 116, 113],\n",
      "        [124, 117, 114],\n",
      "        ...,\n",
      "        [183, 166, 160],\n",
      "        [182, 165, 159],\n",
      "        [181, 164, 158]],\n",
      "\n",
      "       [[124, 115, 112],\n",
      "        [125, 116, 113],\n",
      "        [126, 117, 114],\n",
      "        ...,\n",
      "        [184, 167, 161],\n",
      "        [182, 165, 159],\n",
      "        [181, 164, 158]],\n",
      "\n",
      "       ...,\n",
      "\n",
      "       [[  3,   4,   0],\n",
      "        [  3,   4,   0],\n",
      "        [  3,   4,   0],\n",
      "        ...,\n",
      "        [  0,   0,   0],\n",
      "        [  0,   0,   0],\n",
      "        [  0,   0,   0]],\n",
      "\n",
      "       [[  3,   4,   0],\n",
      "        [  3,   4,   0],\n",
      "        [  3,   4,   0],\n",
      "        ...,\n",
      "        [  0,   0,   0],\n",
      "        [  0,   0,   0],\n",
      "        [  0,   0,   0]],\n",
      "\n",
      "       [[  3,   4,   0],\n",
      "        [  3,   4,   0],\n",
      "        [  3,   4,   0],\n",
      "        ...,\n",
      "        [  0,   0,   0],\n",
      "        [  0,   0,   0],\n",
      "        [  0,   0,   0]]], dtype=uint8))\n"
     ]
    }
   ],
   "source": [
    "def individual_frame(image_frame):\n",
    "    sol = cv2.cvtColor(image_frame,cv2.COLOR_BGR2GRAY)\n",
    "    #return sol \n",
    "    edge = cv2.Canny(sol , 100,120)\n",
    "\n",
    "    return edge\n",
    "\n",
    "\n",
    "\n",
    "cap = cv2.VideoCapture('./lane_detection_video.mp4')\n",
    "\n",
    "print(cap.read())\n",
    "\n",
    "while cap.read():\n",
    "    res , frame = cap.read()\n",
    "    if res == True:\n",
    "        greyscale = individual_frame(frame)\n",
    "        cv2.imshow(\"grey\",greyscale)\n",
    "        #if cv2.waitKey(1) & 0xFF  == ord('q'):\n",
    "            #break \n",
    "        cv2.waitKey(50)\n",
    "    else:\n",
    "        break\n",
    "cap.release()\n",
    "cv2.destroyAllWindows()"
   ]
  },
  {
   "cell_type": "markdown",
   "id": "73b2e1ac",
   "metadata": {},
   "source": [
    "### But we need to select the best portions the i will be using logical AND operator "
   ]
  },
  {
   "cell_type": "code",
   "execution_count": 31,
   "id": "5dad29ee",
   "metadata": {},
   "outputs": [],
   "source": [
    "import matplotlib.pyplot as plt "
   ]
  },
  {
   "cell_type": "code",
   "execution_count": 32,
   "id": "21d09661",
   "metadata": {},
   "outputs": [
    {
     "data": {
      "text/plain": [
       "<matplotlib.image.AxesImage at 0x1992c806a30>"
      ]
     },
     "execution_count": 32,
     "metadata": {},
     "output_type": "execute_result"
    },
    {
     "data": {
      "image/png": "[encoded data removed]",
      "text/plain": [
       "<Figure size 432x288 with 1 Axes>"
      ]
     },
     "metadata": {
      "needs_background": "light"
     },
     "output_type": "display_data"
    }
   ],
   "source": [
    "img = cv2.imread(\"./male_face.png\")\n",
    "plt.imshow(img[:,:,::-1])"
   ]
  },
  {
   "cell_type": "code",
   "execution_count": 33,
   "id": "7280dd06",
   "metadata": {},
   "outputs": [],
   "source": [
    "# converting into graey scale \n",
    "g_i = cv2.cvtColor(img , cv2.COLOR_BGR2GRAY)\n",
    "#g_i = cv2.Canny(g_i,100,150)\n",
    "cv2.imshow('gray',g_i)\n",
    "cv2.waitKey()\n",
    "cv2.destroyAllWindows()"
   ]
  },
  {
   "cell_type": "code",
   "execution_count": 34,
   "id": "17dc0ae6",
   "metadata": {},
   "outputs": [
    {
     "data": {
      "text/plain": [
       "(155, 144)"
      ]
     },
     "execution_count": 34,
     "metadata": {},
     "output_type": "execute_result"
    }
   ],
   "source": [
    "g_i.shape"
   ]
  },
  {
   "cell_type": "code",
   "execution_count": 35,
   "id": "bc687577",
   "metadata": {},
   "outputs": [],
   "source": [
    "a = (0,g_i.shape[0])\n",
    "b = (g_i.shape[1] / 2 , g_i.shape[0] * 0.05)\n",
    "c = (g_i.shape[1] , g_i.shape[0])"
   ]
  },
  {
   "cell_type": "code",
   "execution_count": 36,
   "id": "794729c1",
   "metadata": {},
   "outputs": [],
   "source": [
    "# selecting interested area \n",
    "re = [\n",
    "    \n",
    "    \n",
    "(0,g_i.shape[0]),\n",
    "(g_i.shape[1] / 2 , g_i.shape[0] * 0.65),\n",
    "(g_i.shape[1] , g_i.shape[0])\n",
    "    \n",
    "]"
   ]
  },
  {
   "cell_type": "code",
   "execution_count": 37,
   "id": "dee299d1",
   "metadata": {},
   "outputs": [],
   "source": [
    "# taking complete black image with same input image size \n",
    "black = np.zeros_like(g_i)\n",
    "cv2.imshow('black',black)\n",
    "cv2.waitKey()\n",
    "cv2.destroyAllWindows()"
   ]
  },
  {
   "cell_type": "code",
   "execution_count": 38,
   "id": "19d19906",
   "metadata": {},
   "outputs": [
    {
     "data": {
      "text/plain": [
       "[(0, 155), (72.0, 100.75), (144, 155)]"
      ]
     },
     "execution_count": 38,
     "metadata": {},
     "output_type": "execute_result"
    }
   ],
   "source": [
    "re"
   ]
  },
  {
   "cell_type": "code",
   "execution_count": 39,
   "id": "e2f91be1",
   "metadata": {},
   "outputs": [],
   "source": [
    "r = np.array([re], np.int32)"
   ]
  },
  {
   "cell_type": "code",
   "execution_count": 40,
   "id": "e1371042",
   "metadata": {},
   "outputs": [
    {
     "data": {
      "text/plain": [
       "array([[[  0, 155],\n",
       "        [ 72, 100],\n",
       "        [144, 155]]])"
      ]
     },
     "execution_count": 40,
     "metadata": {},
     "output_type": "execute_result"
    }
   ],
   "source": [
    "r"
   ]
  },
  {
   "cell_type": "code",
   "execution_count": 41,
   "id": "0fe48699",
   "metadata": {},
   "outputs": [],
   "source": [
    "# black image with replace with white at points what we given \n",
    "d = cv2.fillPoly(black,r,255)"
   ]
  },
  {
   "cell_type": "code",
   "execution_count": 42,
   "id": "c8bf100e",
   "metadata": {},
   "outputs": [],
   "source": [
    "cv2.imshow('d',d)\n",
    "cv2.waitKey()\n",
    "cv2.destroyAllWindows()"
   ]
  },
  {
   "cell_type": "code",
   "execution_count": 43,
   "id": "b8486124",
   "metadata": {},
   "outputs": [],
   "source": [
    "# gives cutiing image \n",
    "g = cv2.bitwise_and(d , g_i)\n",
    "cv2.imshow('g',g)\n",
    "cv2.waitKey()\n",
    "cv2.destroyAllWindows()"
   ]
  },
  {
   "cell_type": "markdown",
   "id": "40b621f1",
   "metadata": {},
   "source": [
    "### Applying same logic to the video "
   ]
  },
  {
   "cell_type": "code",
   "execution_count": 45,
   "id": "b6b13fce",
   "metadata": {
    "scrolled": true
   },
   "outputs": [
    {
     "name": "stdout",
     "output_type": "stream",
     "text": [
      "(True, array([[[122, 115, 112],\n",
      "        [123, 116, 113],\n",
      "        [124, 117, 114],\n",
      "        ...,\n",
      "        [183, 166, 160],\n",
      "        [181, 164, 158],\n",
      "        [180, 163, 157]],\n",
      "\n",
      "       [[122, 115, 112],\n",
      "        [123, 116, 113],\n",
      "        [124, 117, 114],\n",
      "        ...,\n",
      "        [183, 166, 160],\n",
      "        [182, 165, 159],\n",
      "        [181, 164, 158]],\n",
      "\n",
      "       [[124, 115, 112],\n",
      "        [125, 116, 113],\n",
      "        [126, 117, 114],\n",
      "        ...,\n",
      "        [184, 167, 161],\n",
      "        [182, 165, 159],\n",
      "        [181, 164, 158]],\n",
      "\n",
      "       ...,\n",
      "\n",
      "       [[  3,   4,   0],\n",
      "        [  3,   4,   0],\n",
      "        [  3,   4,   0],\n",
      "        ...,\n",
      "        [  0,   0,   0],\n",
      "        [  0,   0,   0],\n",
      "        [  0,   0,   0]],\n",
      "\n",
      "       [[  3,   4,   0],\n",
      "        [  3,   4,   0],\n",
      "        [  3,   4,   0],\n",
      "        ...,\n",
      "        [  0,   0,   0],\n",
      "        [  0,   0,   0],\n",
      "        [  0,   0,   0]],\n",
      "\n",
      "       [[  3,   4,   0],\n",
      "        [  3,   4,   0],\n",
      "        [  3,   4,   0],\n",
      "        ...,\n",
      "        [  0,   0,   0],\n",
      "        [  0,   0,   0],\n",
      "        [  0,   0,   0]]], dtype=uint8))\n"
     ]
    }
   ],
   "source": [
    "def interested_area(edge_frame,values):\n",
    "    black = np.zeros_like(edge_frame)\n",
    "    imp = cv2.fillPoly(black ,values , 255)\n",
    "    bit_and = cv2.bitwise_and(edge_frame , imp)\n",
    "    return bit_and\n",
    "    \n",
    "\n",
    "\n",
    "\n",
    "def individual_frame(image_frame):\n",
    "    height = image_frame.shape[0]\n",
    "    width = image_frame.shape[1]\n",
    "    sol = cv2.cvtColor(image_frame,cv2.COLOR_BGR2GRAY)\n",
    "    #return sol \n",
    "    edge = cv2.Canny(sol , 100,120)\n",
    "    \n",
    "    interested_area1 = [\n",
    "        (0,height) , \n",
    "        (width /  2 , height * 0.65),\n",
    "        (width , height)\n",
    "        ]\n",
    "    half = interested_area(edge , np.array([interested_area1] , np.int32))\n",
    "    return half\n",
    "\n",
    "\n",
    "\n",
    "cap = cv2.VideoCapture('./lane_detection_video.mp4')\n",
    "\n",
    "print(cap.read())\n",
    "\n",
    "while cap.read():\n",
    "    res , frame = cap.read()\n",
    "    if res == True:\n",
    "        greyscale = individual_frame(frame)\n",
    "        cv2.imshow(\"grey\",greyscale)\n",
    "        #if cv2.waitKey(1) & 0xFF  == ord('q'):\n",
    "            #break \n",
    "        cv2.waitKey(50)\n",
    "    else:\n",
    "        break\n",
    "cap.release()\n",
    "cv2.destroyAllWindows()"
   ]
  },
  {
   "cell_type": "markdown",
   "id": "a8f679a2",
   "metadata": {},
   "source": [
    "### Now we need to join the lines using Hough Algorithm and give some colors "
   ]
  },
  {
   "cell_type": "code",
   "execution_count": 3,
   "id": "4fb92411",
   "metadata": {
    "scrolled": true
   },
   "outputs": [
    {
     "name": "stdout",
     "output_type": "stream",
     "text": [
      "(True, array([[[122, 115, 112],\n",
      "        [123, 116, 113],\n",
      "        [124, 117, 114],\n",
      "        ...,\n",
      "        [183, 166, 160],\n",
      "        [181, 164, 158],\n",
      "        [180, 163, 157]],\n",
      "\n",
      "       [[122, 115, 112],\n",
      "        [123, 116, 113],\n",
      "        [124, 117, 114],\n",
      "        ...,\n",
      "        [183, 166, 160],\n",
      "        [182, 165, 159],\n",
      "        [181, 164, 158]],\n",
      "\n",
      "       [[124, 115, 112],\n",
      "        [125, 116, 113],\n",
      "        [126, 117, 114],\n",
      "        ...,\n",
      "        [184, 167, 161],\n",
      "        [182, 165, 159],\n",
      "        [181, 164, 158]],\n",
      "\n",
      "       ...,\n",
      "\n",
      "       [[  3,   4,   0],\n",
      "        [  3,   4,   0],\n",
      "        [  3,   4,   0],\n",
      "        ...,\n",
      "        [  0,   0,   0],\n",
      "        [  0,   0,   0],\n",
      "        [  0,   0,   0]],\n",
      "\n",
      "       [[  3,   4,   0],\n",
      "        [  3,   4,   0],\n",
      "        [  3,   4,   0],\n",
      "        ...,\n",
      "        [  0,   0,   0],\n",
      "        [  0,   0,   0],\n",
      "        [  0,   0,   0]],\n",
      "\n",
      "       [[  3,   4,   0],\n",
      "        [  3,   4,   0],\n",
      "        [  3,   4,   0],\n",
      "        ...,\n",
      "        [  0,   0,   0],\n",
      "        [  0,   0,   0],\n",
      "        [  0,   0,   0]]], dtype=uint8))\n"
     ]
    }
   ],
   "source": [
    "def final(image_frame,add):\n",
    "    im = np.zeros((image_frame.shape[0] , image_frame.shape[1] , 3), np.uint8)\n",
    "    \n",
    "    for i in add:\n",
    "        for x1,y1,x2,y2 in i:\n",
    "            cv2.line(im,(x1,y1),(x2,y2),(0,255,255),2)\n",
    "    #return im\n",
    "    \n",
    "    final_sol = cv2.addWeighted(image_frame,0.7,im,1,0)\n",
    "    return final_sol\n",
    "\n",
    "\n",
    "def interested_area(edge_frame,values):\n",
    "    black = np.zeros_like(edge_frame)\n",
    "    imp = cv2.fillPoly(black ,values , 255)\n",
    "    bit_and = cv2.bitwise_and(edge_frame , imp)\n",
    "    return bit_and\n",
    "    \n",
    "\n",
    "\n",
    "\n",
    "def individual_frame(image_frame):\n",
    "    height = image_frame.shape[0]\n",
    "    width = image_frame.shape[1]\n",
    "    sol = cv2.cvtColor(image_frame,cv2.COLOR_BGR2GRAY)\n",
    "    #return sol \n",
    "    edge = cv2.Canny(sol , 100,120)\n",
    "    \n",
    "    interested_area1 = [\n",
    "        (0,height) , \n",
    "        (width /  2 , height * 0.65),\n",
    "        (width , height)\n",
    "        ]\n",
    "    half = interested_area(edge , np.array([interested_area1] , np.int32))\n",
    "    #return half\n",
    "    \n",
    "    add = cv2.HoughLinesP(half,rho = 2 ,theta = np.pi / 180, threshold = 50 , lines =np.array([]) , minLineLength = 30 , maxLineGap = 1250)\n",
    "    #return add\n",
    "    res = final(image_frame,add)\n",
    "    return res\n",
    "\n",
    "cap = cv2.VideoCapture('./lane_detection_video.mp4')\n",
    "\n",
    "print(cap.read())\n",
    "\n",
    "while cap.read():\n",
    "    res , frame = cap.read()\n",
    "    if res == True:\n",
    "        greyscale = individual_frame(frame)\n",
    "        cv2.imshow(\"grey\",greyscale)\n",
    "        #if cv2.waitKey(1) & 0xFF  == ord('q'):\n",
    "            #break \n",
    "        cv2.waitKey(50)\n",
    "    else:\n",
    "        break\n",
    "cap.release()\n",
    "cv2.destroyAllWindows()"
   ]
  },
  {
   "cell_type": "code",
   "execution_count": 4,
   "id": "121e0adf",
   "metadata": {},
   "outputs": [
    {
     "name": "stdout",
     "output_type": "stream",
     "text": [
      "(True, array([[[201, 162, 109],\n",
      "        [201, 162, 109],\n",
      "        [201, 162, 109],\n",
      "        ...,\n",
      "        [ 50,  42,  44],\n",
      "        [ 47,  39,  41],\n",
      "        [ 47,  39,  41]],\n",
      "\n",
      "       [[201, 162, 109],\n",
      "        [201, 162, 109],\n",
      "        [201, 162, 109],\n",
      "        ...,\n",
      "        [ 50,  42,  44],\n",
      "        [ 47,  39,  41],\n",
      "        [ 47,  39,  41]],\n",
      "\n",
      "       [[201, 162, 109],\n",
      "        [201, 162, 109],\n",
      "        [201, 162, 109],\n",
      "        ...,\n",
      "        [ 50,  42,  44],\n",
      "        [ 49,  41,  43],\n",
      "        [ 47,  39,  41]],\n",
      "\n",
      "       ...,\n",
      "\n",
      "       [[ 95,  83,  83],\n",
      "        [ 95,  83,  83],\n",
      "        [ 95,  83,  83],\n",
      "        ...,\n",
      "        [ 96,  88,  90],\n",
      "        [ 96,  88,  90],\n",
      "        [ 94,  86,  88]],\n",
      "\n",
      "       [[ 95,  85,  80],\n",
      "        [ 95,  85,  80],\n",
      "        [ 93,  83,  78],\n",
      "        ...,\n",
      "        [ 96,  86,  88],\n",
      "        [ 96,  86,  88],\n",
      "        [ 94,  84,  86]],\n",
      "\n",
      "       [[ 95,  85,  80],\n",
      "        [ 95,  85,  80],\n",
      "        [ 93,  83,  78],\n",
      "        ...,\n",
      "        [ 93,  83,  85],\n",
      "        [ 93,  83,  85],\n",
      "        [ 90,  80,  82]]], dtype=uint8))\n"
     ]
    }
   ],
   "source": [
    "def final(image_frame,add):\n",
    "    im = np.zeros((image_frame.shape[0] , image_frame.shape[1] , 3), np.uint8)\n",
    "    \n",
    "    for i in add:\n",
    "        for x1,y1,x2,y2 in i:\n",
    "            cv2.line(im,(x1,y1),(x2,y2),(0,255,255),2)\n",
    "    #return im\n",
    "    \n",
    "    final_sol = cv2.addWeighted(image_frame,0.7,im,1,0)\n",
    "    return final_sol\n",
    "\n",
    "\n",
    "def interested_area(edge_frame,values):\n",
    "    black = np.zeros_like(edge_frame)\n",
    "    imp = cv2.fillPoly(black ,values , 255)\n",
    "    bit_and = cv2.bitwise_and(edge_frame , imp)\n",
    "    return bit_and\n",
    "    \n",
    "\n",
    "\n",
    "\n",
    "def individual_frame(image_frame):\n",
    "    height = image_frame.shape[0]\n",
    "    width = image_frame.shape[1]\n",
    "    sol = cv2.cvtColor(image_frame,cv2.COLOR_BGR2GRAY)\n",
    "    #return sol \n",
    "    edge = cv2.Canny(sol , 100,120)\n",
    "    \n",
    "    interested_area1 = [\n",
    "        (0,height) , \n",
    "        (width /  2 , height * 0.65),\n",
    "        (width , height)\n",
    "        ]\n",
    "    half = interested_area(edge , np.array([interested_area1] , np.int32))\n",
    "    #return half\n",
    "    \n",
    "    add = cv2.HoughLinesP(half,rho = 2 ,theta = np.pi / 180, threshold = 50 , lines =np.array([]) , minLineLength = 140 , maxLineGap = 1250)\n",
    "    #return add\n",
    "    res = final(image_frame,add)\n",
    "    return res\n",
    "\n",
    "cap = cv2.VideoCapture('./solidWhiteRight.mp4')\n",
    "saving = cv2.VideoWriter_fourcc(*'XVID')\n",
    "out = cv2.VideoWriter('output.avi',saving,20.0,(640,480))\n",
    "print(cap.read())\n",
    "\n",
    "while cap.read():\n",
    "    res , frame = cap.read()\n",
    "    if res == True:\n",
    "        greyscale = individual_frame(frame)\n",
    "        out.write(greyscale)\n",
    "        cv2.imshow(\"grey\",greyscale)\n",
    "        #if cv2.waitKey(1) & 0xFF  == ord('q'):\n",
    "            #break \n",
    "        cv2.waitKey(50)\n",
    "        \n",
    "    else:\n",
    "        break\n",
    "cap.release()\n",
    "cv2.destroyAllWindows()"
   ]
  },
  {
   "cell_type": "code",
   "execution_count": null,
   "id": "7b5c8bfa",
   "metadata": {},
   "outputs": [],
   "source": []
  }
 ],
 "metadata": {
  "kernelspec": {
   "display_name": "Python 3 (ipykernel)",
   "language": "python",
   "name": "python3"
  },
  "language_info": {
   "codemirror_mode": {
    "name": "ipython",
    "version": 3
   },
   "file_extension": ".py",
   "mimetype": "text/x-python",
   "name": "python",
   "nbconvert_exporter": "python",
   "pygments_lexer": "ipython3",
   "version": "3.8.12"
  }
 },
 "nbformat": 4,
 "nbformat_minor": 5
}
